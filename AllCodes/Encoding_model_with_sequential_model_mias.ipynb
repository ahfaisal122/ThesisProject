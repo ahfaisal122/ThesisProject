{
  "nbformat": 4,
  "nbformat_minor": 0,
  "metadata": {
    "colab": {
      "name": "Encoding_model_with_sequential_model_mias.ipynb",
      "provenance": [],
      "collapsed_sections": []
    },
    "kernelspec": {
      "name": "python3",
      "display_name": "Python 3"
    },
    "accelerator": "GPU"
  },
  "cells": [
    {
      "cell_type": "code",
      "metadata": {
        "id": "hpOH1ljkCOb7",
        "colab": {
          "base_uri": "https://localhost:8080/",
          "height": 34
        },
        "outputId": "9c127bac-afef-4f7e-e10c-1110823e0f27"
      },
      "source": [
        "from google.colab import drive\n",
        "drive.mount('/content/gdrive')"
      ],
      "execution_count": null,
      "outputs": [
        {
          "output_type": "stream",
          "text": [
            "Mounted at /content/gdrive\n"
          ],
          "name": "stdout"
        }
      ]
    },
    {
      "cell_type": "code",
      "metadata": {
        "id": "Yx7RxGKKFSOy",
        "colab": {
          "base_uri": "https://localhost:8080/",
          "height": 34
        },
        "outputId": "1f580a9f-18cf-4e5d-f6f0-f6b7f55f6542"
      },
      "source": [
        "from tensorflow.keras.datasets import mnist\n",
        "from tensorflow.keras.layers import Dense, Conv2D, MaxPooling2D,UpSampling2D,Input, Flatten,\\\n",
        "                                    Reshape, LeakyReLU as LR,\\\n",
        "                                    Activation, Dropout\n",
        "from tensorflow.keras.models import Model, Sequential\n",
        "from matplotlib import pyplot as plt\n",
        "import numpy as np\n",
        "\n",
        "import os\n",
        "import random\n",
        "import pickle\n",
        "import matplotlib.pyplot as plt\n",
        "import cv2\n",
        "from tensorflow.keras.preprocessing.image import ImageDataGenerator\n",
        "\n",
        "\n",
        "print(os.listdir(\"/content/gdrive/My Drive/breast-20200512T051500Z-001/breast_data\"))"
      ],
      "execution_count": null,
      "outputs": [
        {
          "output_type": "stream",
          "text": [
            "['normal', 'cancer']\n"
          ],
          "name": "stdout"
        }
      ]
    },
    {
      "cell_type": "code",
      "metadata": {
        "id": "oFBkPFFxFSRg"
      },
      "source": [
        "IMG_SIZE = 128"
      ],
      "execution_count": null,
      "outputs": []
    },
    {
      "cell_type": "code",
      "metadata": {
        "id": "sZZw0BsVFSUR"
      },
      "source": [
        "CATEGORIES = ['cancer', 'normal']\n",
        "dataset = []\n",
        "\n",
        "def generate_data():\n",
        "    for category in CATEGORIES:\n",
        "        path = f'/content/gdrive/My Drive/breast-20200512T051500Z-001/breast_data/{category}'\n",
        "        class_id = CATEGORIES.index(category)\n",
        "        for image in os.listdir(path):\n",
        "            try:\n",
        "                image_array = cv2.imread(os.path.join(path, image), cv2.IMREAD_COLOR)\n",
        "                image_array = cv2.resize(image_array, (IMG_SIZE,IMG_SIZE))\n",
        "                dataset.append([image_array, class_id])\n",
        "            except Exception as e:\n",
        "                print(e)\n",
        "    random.shuffle(dataset)\n",
        "                \n",
        "generate_data()"
      ],
      "execution_count": null,
      "outputs": []
    },
    {
      "cell_type": "code",
      "metadata": {
        "id": "7So3C-oFFSW-",
        "colab": {
          "base_uri": "https://localhost:8080/",
          "height": 34
        },
        "outputId": "33f27ed9-2b5e-48b8-b411-7f3c0018730a"
      },
      "source": [
        "print(len(dataset))"
      ],
      "execution_count": null,
      "outputs": [
        {
          "output_type": "stream",
          "text": [
            "178\n"
          ],
          "name": "stdout"
        }
      ]
    },
    {
      "cell_type": "code",
      "metadata": {
        "id": "aaxSXyCzFSZj"
      },
      "source": [
        "data = []\n",
        "labels = []\n",
        "for features, label in dataset:\n",
        "    data.append(features)\n",
        "    labels.append(label)"
      ],
      "execution_count": null,
      "outputs": []
    },
    {
      "cell_type": "code",
      "metadata": {
        "id": "5GzrubkAFScc",
        "colab": {
          "base_uri": "https://localhost:8080/",
          "height": 840
        },
        "outputId": "09b7a162-c0d6-49d1-966f-ee0b5197d23a"
      },
      "source": [
        "import tensorflow as tf\n",
        "data = np.array(data)\n",
        "data.reshape(-1,128,3)"
      ],
      "execution_count": null,
      "outputs": [
        {
          "output_type": "execute_result",
          "data": {
            "text/plain": [
              "array([[[0, 0, 0],\n",
              "        [0, 0, 0],\n",
              "        [0, 0, 0],\n",
              "        ...,\n",
              "        [0, 0, 0],\n",
              "        [0, 0, 0],\n",
              "        [0, 0, 0]],\n",
              "\n",
              "       [[0, 0, 0],\n",
              "        [0, 0, 0],\n",
              "        [0, 0, 0],\n",
              "        ...,\n",
              "        [0, 0, 0],\n",
              "        [0, 0, 0],\n",
              "        [0, 0, 0]],\n",
              "\n",
              "       [[0, 0, 0],\n",
              "        [0, 0, 0],\n",
              "        [0, 0, 0],\n",
              "        ...,\n",
              "        [0, 0, 0],\n",
              "        [0, 0, 0],\n",
              "        [0, 0, 0]],\n",
              "\n",
              "       ...,\n",
              "\n",
              "       [[0, 0, 0],\n",
              "        [0, 0, 0],\n",
              "        [0, 0, 0],\n",
              "        ...,\n",
              "        [0, 0, 0],\n",
              "        [0, 0, 0],\n",
              "        [0, 0, 0]],\n",
              "\n",
              "       [[0, 0, 0],\n",
              "        [0, 0, 0],\n",
              "        [0, 0, 0],\n",
              "        ...,\n",
              "        [0, 0, 0],\n",
              "        [0, 0, 0],\n",
              "        [0, 0, 0]],\n",
              "\n",
              "       [[0, 0, 0],\n",
              "        [0, 0, 0],\n",
              "        [0, 0, 0],\n",
              "        ...,\n",
              "        [0, 0, 0],\n",
              "        [0, 0, 0],\n",
              "        [0, 0, 0]]], dtype=uint8)"
            ]
          },
          "metadata": {
            "tags": []
          },
          "execution_count": 7
        }
      ]
    },
    {
      "cell_type": "code",
      "metadata": {
        "id": "A9xv_995FSfL"
      },
      "source": [
        "from sklearn.model_selection import train_test_split\n",
        "data = data/255\n",
        "train_x,data,train_y,labels =train_test_split(data,labels,test_size=0.5)\n",
        "test_data, validation_data, test_labels, validation_labels = train_test_split(data,labels,test_size=0.5)"
      ],
      "execution_count": null,
      "outputs": []
    },
    {
      "cell_type": "code",
      "metadata": {
        "id": "KnhPwy3wLIuk",
        "colab": {
          "base_uri": "https://localhost:8080/",
          "height": 34
        },
        "outputId": "ea698430-866c-48ce-8f1a-0ccc1d4b5fc3"
      },
      "source": [
        "train_x = train_x/ 255\n",
        "#train_x.resize(142,128,128,3)\n",
        "#train_x.shape\n",
        "#data.shape\n",
        "data.shape\n",
        "#validation_data.shape\n",
        "#print(len(train_x))\n",
        "#print(len())"
      ],
      "execution_count": null,
      "outputs": [
        {
          "output_type": "execute_result",
          "data": {
            "text/plain": [
              "(89, 128, 128, 3)"
            ]
          },
          "metadata": {
            "tags": []
          },
          "execution_count": 9
        }
      ]
    },
    {
      "cell_type": "code",
      "metadata": {
        "id": "4Bv3970xLIxO"
      },
      "source": [
        "input_layer=Input(shape= (128,128,3))"
      ],
      "execution_count": null,
      "outputs": []
    },
    {
      "cell_type": "code",
      "metadata": {
        "id": "zQO9bGIgLIzy",
        "colab": {
          "base_uri": "https://localhost:8080/",
          "height": 319
        },
        "outputId": "f6ba7107-b3ea-4d63-dc71-51ea1e29edc5"
      },
      "source": [
        "#encoder part\n",
        "encode_layer1 = Dense(1500, activation= 'relu')(input_layer)\n",
        "encode_layer2 = Dense(1000, activation= 'relu')(encode_layer1)\n",
        "encode_layer3 = Dense(500, activation= 'relu')(encode_layer2)\n",
        "output_1 = Dense(3)(encode_layer3)\n",
        "model1= Model(input_layer,output_1)\n",
        "model1.summary()"
      ],
      "execution_count": null,
      "outputs": [
        {
          "output_type": "stream",
          "text": [
            "Model: \"functional_1\"\n",
            "_________________________________________________________________\n",
            "Layer (type)                 Output Shape              Param #   \n",
            "=================================================================\n",
            "input_1 (InputLayer)         [(None, 128, 128, 3)]     0         \n",
            "_________________________________________________________________\n",
            "dense (Dense)                (None, 128, 128, 1500)    6000      \n",
            "_________________________________________________________________\n",
            "dense_1 (Dense)              (None, 128, 128, 1000)    1501000   \n",
            "_________________________________________________________________\n",
            "dense_2 (Dense)              (None, 128, 128, 500)     500500    \n",
            "_________________________________________________________________\n",
            "dense_3 (Dense)              (None, 128, 128, 3)       1503      \n",
            "=================================================================\n",
            "Total params: 2,009,003\n",
            "Trainable params: 2,009,003\n",
            "Non-trainable params: 0\n",
            "_________________________________________________________________\n"
          ],
          "name": "stdout"
        }
      ]
    },
    {
      "cell_type": "code",
      "metadata": {
        "id": "jIg9yIz1LI2Y"
      },
      "source": [
        "model2 = Sequential([\n",
        "      \n",
        "       Dense(3, activation = 'relu', input_shape=(IMG_SIZE,IMG_SIZE,3)) ,\n",
        "       Dense(16,activation='relu'),\n",
        "       Dropout(0.2),\n",
        "       Dense(32, activation='relu'),\n",
        "       Dense(32, activation='sigmoid'),\n",
        "       Dropout(0.5),\n",
        "       Dense(3, activation='softmax')\n",
        "])\n"
      ],
      "execution_count": null,
      "outputs": []
    },
    {
      "cell_type": "code",
      "metadata": {
        "id": "Es1AgooxLI44"
      },
      "source": [
        "\n",
        "model2.compile(optimizer='ADAM', loss='binary_crossentropy')\n",
        "#model2.add(BatchNormalization())"
      ],
      "execution_count": null,
      "outputs": []
    },
    {
      "cell_type": "code",
      "metadata": {
        "id": "X-OOWmauLI7t",
        "colab": {
          "base_uri": "https://localhost:8080/",
          "height": 403
        },
        "outputId": "18a42047-5100-4a6a-865e-fbba34a28162"
      },
      "source": [
        "model2.summary()\n",
        "print(output_1)"
      ],
      "execution_count": null,
      "outputs": [
        {
          "output_type": "stream",
          "text": [
            "Model: \"sequential\"\n",
            "_________________________________________________________________\n",
            "Layer (type)                 Output Shape              Param #   \n",
            "=================================================================\n",
            "dense_4 (Dense)              (None, 128, 128, 3)       12        \n",
            "_________________________________________________________________\n",
            "dense_5 (Dense)              (None, 128, 128, 16)      64        \n",
            "_________________________________________________________________\n",
            "dropout (Dropout)            (None, 128, 128, 16)      0         \n",
            "_________________________________________________________________\n",
            "dense_6 (Dense)              (None, 128, 128, 32)      544       \n",
            "_________________________________________________________________\n",
            "dense_7 (Dense)              (None, 128, 128, 32)      1056      \n",
            "_________________________________________________________________\n",
            "dropout_1 (Dropout)          (None, 128, 128, 32)      0         \n",
            "_________________________________________________________________\n",
            "dense_8 (Dense)              (None, 128, 128, 3)       99        \n",
            "=================================================================\n",
            "Total params: 1,775\n",
            "Trainable params: 1,775\n",
            "Non-trainable params: 0\n",
            "_________________________________________________________________\n",
            "Tensor(\"dense_3/BiasAdd:0\", shape=(None, 128, 128, 3), dtype=float32)\n"
          ],
          "name": "stdout"
        }
      ]
    },
    {
      "cell_type": "code",
      "metadata": {
        "id": "l5WU6z2zLI9w",
        "colab": {
          "base_uri": "https://localhost:8080/",
          "height": 50
        },
        "outputId": "b7812119-2ce5-46d7-ef3e-6bd1a0c7830e"
      },
      "source": [
        "from tensorflow.keras.layers import *\n",
        "print(output_1.shape)\n",
        "print(model2.output.shape)\n",
        "merged = concatenate([output_1,model2.output])"
      ],
      "execution_count": null,
      "outputs": [
        {
          "output_type": "stream",
          "text": [
            "(None, 128, 128, 3)\n",
            "(None, 128, 128, 3)\n"
          ],
          "name": "stdout"
        }
      ]
    },
    {
      "cell_type": "code",
      "metadata": {
        "id": "Z1laS4YdLJAJ"
      },
      "source": [
        "merged = Flatten()(merged)    \n",
        "#merged = Dense(256, activation='relu')(merged)\n",
        "#merged = Dropout(.5)(merged)\n",
        "merged = Dense(128, activation='relu')(merged)\n",
        "#merged = Dropout(.35)(merged)\n",
        "\n",
        "# output layer\n",
        "merged = Dense(5, activation='softmax')(merged)"
      ],
      "execution_count": null,
      "outputs": []
    },
    {
      "cell_type": "code",
      "metadata": {
        "id": "RmDMkcWALJC6"
      },
      "source": [
        "output = Dense(3, activation='sigmoid')(merged)\n"
      ],
      "execution_count": null,
      "outputs": []
    },
    {
      "cell_type": "code",
      "metadata": {
        "id": "l0slOwEGLjJA"
      },
      "source": [
        "newModel = Model([model1.input,model2.input],output)\n"
      ],
      "execution_count": null,
      "outputs": []
    },
    {
      "cell_type": "code",
      "metadata": {
        "id": "0zTiEzcbLjRW",
        "colab": {
          "base_uri": "https://localhost:8080/",
          "height": 773
        },
        "outputId": "ae0bd1d4-693f-4f53-f32d-b94a07f8e8b6"
      },
      "source": [
        "\n",
        "newModel.compile(metrics=['acc'], loss='mse',optimizer ='adam')\n",
        "\n",
        "#newModel.compile(optimizer='adam', loss = 'mean_squared_error', metrics = ('mae'))\n",
        "newModel.summary()\n",
        "\n",
        "#newModel.summary()\n",
        "#early_stopping = EarlyStopping(monitor='val_loss',min_delta=0,patience=5,verbose=1, mode='auto')\n",
        "#history1 = newModel.fit([train_x,data],train_y,batch_size=batch_size,epochs=epochs,verbose=1)"
      ],
      "execution_count": null,
      "outputs": [
        {
          "output_type": "stream",
          "text": [
            "Model: \"functional_3\"\n",
            "__________________________________________________________________________________________________\n",
            "Layer (type)                    Output Shape         Param #     Connected to                     \n",
            "==================================================================================================\n",
            "dense_4_input (InputLayer)      [(None, 128, 128, 3) 0                                            \n",
            "__________________________________________________________________________________________________\n",
            "dense_4 (Dense)                 (None, 128, 128, 3)  12          dense_4_input[0][0]              \n",
            "__________________________________________________________________________________________________\n",
            "dense_5 (Dense)                 (None, 128, 128, 16) 64          dense_4[0][0]                    \n",
            "__________________________________________________________________________________________________\n",
            "input_1 (InputLayer)            [(None, 128, 128, 3) 0                                            \n",
            "__________________________________________________________________________________________________\n",
            "dropout (Dropout)               (None, 128, 128, 16) 0           dense_5[0][0]                    \n",
            "__________________________________________________________________________________________________\n",
            "dense (Dense)                   (None, 128, 128, 150 6000        input_1[0][0]                    \n",
            "__________________________________________________________________________________________________\n",
            "dense_6 (Dense)                 (None, 128, 128, 32) 544         dropout[0][0]                    \n",
            "__________________________________________________________________________________________________\n",
            "dense_1 (Dense)                 (None, 128, 128, 100 1501000     dense[0][0]                      \n",
            "__________________________________________________________________________________________________\n",
            "dense_7 (Dense)                 (None, 128, 128, 32) 1056        dense_6[0][0]                    \n",
            "__________________________________________________________________________________________________\n",
            "dense_2 (Dense)                 (None, 128, 128, 500 500500      dense_1[0][0]                    \n",
            "__________________________________________________________________________________________________\n",
            "dropout_1 (Dropout)             (None, 128, 128, 32) 0           dense_7[0][0]                    \n",
            "__________________________________________________________________________________________________\n",
            "dense_3 (Dense)                 (None, 128, 128, 3)  1503        dense_2[0][0]                    \n",
            "__________________________________________________________________________________________________\n",
            "dense_8 (Dense)                 (None, 128, 128, 3)  99          dropout_1[0][0]                  \n",
            "__________________________________________________________________________________________________\n",
            "concatenate (Concatenate)       (None, 128, 128, 6)  0           dense_3[0][0]                    \n",
            "                                                                 dense_8[0][0]                    \n",
            "__________________________________________________________________________________________________\n",
            "flatten (Flatten)               (None, 98304)        0           concatenate[0][0]                \n",
            "__________________________________________________________________________________________________\n",
            "dense_9 (Dense)                 (None, 128)          12583040    flatten[0][0]                    \n",
            "__________________________________________________________________________________________________\n",
            "dense_10 (Dense)                (None, 5)            645         dense_9[0][0]                    \n",
            "__________________________________________________________________________________________________\n",
            "dense_11 (Dense)                (None, 3)            18          dense_10[0][0]                   \n",
            "==================================================================================================\n",
            "Total params: 14,594,481\n",
            "Trainable params: 14,594,481\n",
            "Non-trainable params: 0\n",
            "__________________________________________________________________________________________________\n"
          ],
          "name": "stdout"
        }
      ]
    },
    {
      "cell_type": "code",
      "metadata": {
        "id": "0xU8a8CCLrvQ",
        "colab": {
          "base_uri": "https://localhost:8080/",
          "height": 1000
        },
        "outputId": "ca7a1cf5-dca0-49d3-ca02-f029c612b8fb"
      },
      "source": [
        "batch_size = 16\n",
        "epochs =30\n",
        "#early_stopping = EarlyStopping(monitor='val_loss',min_delta=0,patience=5,verbose=1, mode='auto')\n",
        "history1 = newModel.fit([train_x,data],y=np.array(train_y),batch_size=batch_size,shuffle=True,epochs=epochs,verbose=1,validation_split=0.1)\n",
        "#history1 = newModel.fit([train_x,data],train_y, batch_size=batch_size,epochs=epochs,validation_split=0.1)\n",
        "\n",
        "\n",
        "#early_stopping = EarlyStopping(monitor='val_loss',min_delta=0,patience=5,verbose=1, mode='auto')\n",
        "#history1 = newModel.fit([train_x,data],y=np.array(train_y),batch_size=batch_size,epochs=epochs,verbose=1,validation_split=0.1)\n",
        "#history1 = newModel.fit([train_x,data],train_y, batch_size=batch_size,epochs=epochs,validation_split=0.1)"
      ],
      "execution_count": null,
      "outputs": [
        {
          "output_type": "stream",
          "text": [
            "Epoch 1/30\n",
            "2/5 [===========>..................] - ETA: 1s - loss: 0.2744 - acc: 0.4375WARNING:tensorflow:Callbacks method `on_train_batch_end` is slow compared to the batch time (batch time: 0.0106s vs `on_train_batch_end` time: 1.0772s). Check your callbacks.\n",
            "5/5 [==============================] - 5s 975ms/step - loss: 0.2798 - acc: 0.4750 - val_loss: 0.2618 - val_acc: 0.6667\n",
            "Epoch 2/30\n",
            "5/5 [==============================] - 6s 1s/step - loss: 0.2861 - acc: 0.4750 - val_loss: 0.2614 - val_acc: 0.6667\n",
            "Epoch 3/30\n",
            "5/5 [==============================] - 6s 1s/step - loss: 0.2854 - acc: 0.4750 - val_loss: 0.2610 - val_acc: 0.6667\n",
            "Epoch 4/30\n",
            "5/5 [==============================] - 6s 1s/step - loss: 0.2847 - acc: 0.4750 - val_loss: 0.2605 - val_acc: 0.6667\n",
            "Epoch 5/30\n",
            "5/5 [==============================] - 6s 1s/step - loss: 0.2841 - acc: 0.4750 - val_loss: 0.2601 - val_acc: 0.6667\n",
            "Epoch 6/30\n",
            "5/5 [==============================] - 5s 1s/step - loss: 0.2834 - acc: 0.4750 - val_loss: 0.2597 - val_acc: 0.6667\n",
            "Epoch 7/30\n",
            "5/5 [==============================] - 5s 1s/step - loss: 0.2827 - acc: 0.4750 - val_loss: 0.2593 - val_acc: 0.6667\n",
            "Epoch 8/30\n",
            "5/5 [==============================] - 5s 1s/step - loss: 0.2821 - acc: 0.4750 - val_loss: 0.2589 - val_acc: 0.6667\n",
            "Epoch 9/30\n",
            "5/5 [==============================] - 6s 1s/step - loss: 0.2814 - acc: 0.4750 - val_loss: 0.2585 - val_acc: 0.6667\n",
            "Epoch 10/30\n",
            "5/5 [==============================] - 6s 1s/step - loss: 0.2808 - acc: 0.4750 - val_loss: 0.2581 - val_acc: 0.6667\n",
            "Epoch 11/30\n",
            "5/5 [==============================] - 6s 1s/step - loss: 0.2801 - acc: 0.4750 - val_loss: 0.2577 - val_acc: 0.6667\n",
            "Epoch 12/30\n",
            "5/5 [==============================] - 6s 1s/step - loss: 0.2795 - acc: 0.4750 - val_loss: 0.2574 - val_acc: 0.6667\n",
            "Epoch 13/30\n",
            "5/5 [==============================] - 6s 1s/step - loss: 0.2789 - acc: 0.4750 - val_loss: 0.2570 - val_acc: 0.6667\n",
            "Epoch 14/30\n",
            "5/5 [==============================] - 6s 1s/step - loss: 0.2783 - acc: 0.4750 - val_loss: 0.2567 - val_acc: 0.6667\n",
            "Epoch 15/30\n",
            "5/5 [==============================] - 6s 1s/step - loss: 0.2777 - acc: 0.4750 - val_loss: 0.2563 - val_acc: 0.6667\n",
            "Epoch 16/30\n",
            "5/5 [==============================] - 6s 1s/step - loss: 0.2771 - acc: 0.4750 - val_loss: 0.2560 - val_acc: 0.6667\n",
            "Epoch 17/30\n",
            "5/5 [==============================] - 6s 1s/step - loss: 0.2765 - acc: 0.4750 - val_loss: 0.2557 - val_acc: 0.6667\n",
            "Epoch 18/30\n",
            "5/5 [==============================] - 6s 1s/step - loss: 0.2759 - acc: 0.4750 - val_loss: 0.2554 - val_acc: 0.6667\n",
            "Epoch 19/30\n",
            "5/5 [==============================] - 6s 1s/step - loss: 0.2754 - acc: 0.4750 - val_loss: 0.2551 - val_acc: 0.6667\n",
            "Epoch 20/30\n",
            "5/5 [==============================] - 6s 1s/step - loss: 0.2748 - acc: 0.4750 - val_loss: 0.2548 - val_acc: 0.6667\n",
            "Epoch 21/30\n",
            "5/5 [==============================] - 6s 1s/step - loss: 0.2742 - acc: 0.4750 - val_loss: 0.2545 - val_acc: 0.6667\n",
            "Epoch 22/30\n",
            "5/5 [==============================] - 6s 1s/step - loss: 0.2737 - acc: 0.4750 - val_loss: 0.2542 - val_acc: 0.6667\n",
            "Epoch 23/30\n",
            "5/5 [==============================] - 6s 1s/step - loss: 0.2732 - acc: 0.4750 - val_loss: 0.2540 - val_acc: 0.6667\n",
            "Epoch 24/30\n",
            "5/5 [==============================] - 6s 1s/step - loss: 0.2727 - acc: 0.4750 - val_loss: 0.2538 - val_acc: 0.6667\n",
            "Epoch 25/30\n",
            "5/5 [==============================] - 6s 1s/step - loss: 0.2722 - acc: 0.4750 - val_loss: 0.2535 - val_acc: 0.6667\n",
            "Epoch 26/30\n",
            "5/5 [==============================] - 6s 1s/step - loss: 0.2717 - acc: 0.4750 - val_loss: 0.2533 - val_acc: 0.6667\n",
            "Epoch 27/30\n",
            "5/5 [==============================] - 6s 1s/step - loss: 0.2712 - acc: 0.4750 - val_loss: 0.2531 - val_acc: 0.6667\n",
            "Epoch 28/30\n",
            "5/5 [==============================] - 6s 1s/step - loss: 0.2707 - acc: 0.4750 - val_loss: 0.2528 - val_acc: 0.6667\n",
            "Epoch 29/30\n",
            "5/5 [==============================] - 6s 1s/step - loss: 0.2702 - acc: 0.4750 - val_loss: 0.2526 - val_acc: 0.6667\n",
            "Epoch 30/30\n",
            "5/5 [==============================] - 6s 1s/step - loss: 0.2697 - acc: 0.4750 - val_loss: 0.2524 - val_acc: 0.6667\n"
          ],
          "name": "stdout"
        }
      ]
    },
    {
      "cell_type": "code",
      "metadata": {
        "id": "XyP2em5gLryC",
        "colab": {
          "base_uri": "https://localhost:8080/",
          "height": 84
        },
        "outputId": "8bd9b614-9704-4baf-b9df-169b30068951"
      },
      "source": [
        "accuracy = history1.history['acc']\n",
        "loss = history1.history['loss']\n",
        "val_accuracy = history1.history['val_acc']\n",
        "val_loss = history1.history['val_loss']\n",
        "\n",
        "print(f'Training Accuracy: {np.max(accuracy)}')\n",
        "print(f'Training Loss: {np.min(loss)}')\n",
        "print(f'Validation Accuracy: {np.max(val_accuracy)}')\n",
        "print(f'Validation Loss: {np.min(val_loss)}')"
      ],
      "execution_count": null,
      "outputs": [
        {
          "output_type": "stream",
          "text": [
            "Training Accuracy: 0.4749999940395355\n",
            "Training Loss: 0.2697412967681885\n",
            "Validation Accuracy: 0.6666666865348816\n",
            "Validation Loss: 0.2523955702781677\n"
          ],
          "name": "stdout"
        }
      ]
    },
    {
      "cell_type": "code",
      "metadata": {
        "id": "Yf1f13f9Lr1H"
      },
      "source": [
        "epochs_range = range(epochs)\n",
        "\n",
        "plt.figure(figsize=(15, 5))\n",
        "plt.subplot(1, 2, 1)\n",
        "plt.xlabel('epochs')\n",
        "plt.ylabel('Accuracy rate')\n",
        "plt.plot(epochs_range, accuracy, label=\"Training Accuracy\")\n",
        "plt.plot(epochs_range, val_accuracy, label=\"Validation Accuracy\")\n",
        "plt.legend(loc=\"lower right\")\n",
        "plt.title(\"Training and Validation Accuracy\")\n",
        "\n",
        "plt.subplot(1, 2, 2)\n",
        "plt.xlabel('epochs')\n",
        "plt.ylabel('loss rate')\n",
        "plt.plot(epochs_range, loss, label=\"Training Loss\")\n",
        "plt.plot(epochs_range, val_loss, label=\"Validation Loss\")\n",
        "plt.legend(loc=\"upper right\")\n",
        "plt.title(\"Training and Validation Loss\")\n",
        "plt.show()"
      ],
      "execution_count": null,
      "outputs": []
    },
    {
      "cell_type": "code",
      "metadata": {
        "id": "xfqvy8zzLjWk"
      },
      "source": [
        "class_names = ['cancer', 'normal']\n",
        "def plot_images(i, predictions_array, true_labels, images):\n",
        "    predictions_array, true_label, img = predictions_array[i], true_labels[i],images[i]\n",
        "    plt.grid(False)\n",
        "    plt.xticks([])\n",
        "    plt.yticks([])\n",
        "    \n",
        "    plt.imshow(img)\n",
        "    \n",
        "    predicted_label = np.argmax(predictions_array)\n",
        "        \n",
        "    plt.xlabel(\"{} {:2.0f}% ({})\".format(class_names[predicted_label],\n",
        "                                        100*np.max(predictions_array),\n",
        "                                        class_names[true_label]))"
      ],
      "execution_count": null,
      "outputs": []
    },
    {
      "cell_type": "code",
      "metadata": {
        "id": "1goSQv15L5fC"
      },
      "source": [
        "yPred = newModel.predict([test_data,test_data]).argmax( axis=-1 ) \n"
      ],
      "execution_count": null,
      "outputs": []
    },
    {
      "cell_type": "code",
      "metadata": {
        "id": "VUMwrX1iL5h0",
        "colab": {
          "base_uri": "https://localhost:8080/",
          "height": 50
        },
        "outputId": "8f1530dc-02b3-4cb8-f7dd-a118102fc2d3"
      },
      "source": [
        "print(len(yPred))\n",
        "#pred.resize(10,1)\n",
        "print ( yPred )"
      ],
      "execution_count": null,
      "outputs": [
        {
          "output_type": "stream",
          "text": [
            "44\n",
            "[0, 0, 1, 0, 0, 1, 0, 0, 1, 0, 1, 0, 1, 0, 1, 1, 0, 0, 0, 0, 0, 0, 1, 1, 0, 1, 0, 0, 1, 0, 0, 0, 0, 0, 0, 0, 0, 0, 0, 0, 0, 0, 0, 0]\n"
          ],
          "name": "stdout"
        }
      ]
    },
    {
      "cell_type": "code",
      "metadata": {
        "id": "6wVQhTryL_I8",
        "colab": {
          "base_uri": "https://localhost:8080/",
          "height": 34
        },
        "outputId": "298a1a58-b3a0-4ee5-d9da-97f934dd4dfc"
      },
      "source": [
        "from sklearn.metrics import precision_score\n",
        "print(\"Precision Score : \",precision_score(test_labels, yPred,\n",
        "                                           average='micro'))"
      ],
      "execution_count": null,
      "outputs": [
        {
          "output_type": "stream",
          "text": [
            "Precision Score :  0.5\n"
          ],
          "name": "stdout"
        }
      ]
    },
    {
      "cell_type": "code",
      "metadata": {
        "id": "D7M2O-INL_L3",
        "colab": {
          "base_uri": "https://localhost:8080/",
          "height": 50
        },
        "outputId": "567cf47b-5ac3-4383-bd78-eee29160734e"
      },
      "source": [
        "from sklearn.metrics import f1_score\n",
        "from sklearn import metrics\n",
        "from sklearn.metrics import plot_confusion_matrix\n",
        "\n",
        "print('F1_score : ',f1_score(test_labels,yPred))\n",
        "print('sensitibity : ',metrics.recall_score(test_labels, yPred))"
      ],
      "execution_count": null,
      "outputs": [
        {
          "output_type": "stream",
          "text": [
            "F1_score :  0.31249999999999994\n",
            "sensitibity :  0.23809523809523808\n"
          ],
          "name": "stdout"
        }
      ]
    },
    {
      "cell_type": "code",
      "metadata": {
        "id": "ryKzLxugL_Om"
      },
      "source": [
        "def plot_roc_curve(fpr,tpr): \n",
        "  plt.plot(fpr,tpr) \n",
        "  plt.axis([0,1,0,1]) \n",
        "  plt.xlabel('False Positive Rate') \n",
        "  plt.ylabel('True Positive Rate') \n",
        "  plt.show() "
      ],
      "execution_count": null,
      "outputs": []
    },
    {
      "cell_type": "code",
      "metadata": {
        "id": "LAQiCiHcMJ8Q",
        "colab": {
          "base_uri": "https://localhost:8080/",
          "height": 168
        },
        "outputId": "fafc50cf-b7bc-4be9-d0b4-e03ab76473dd"
      },
      "source": [
        "from sklearn.metrics import classification_report\n",
        "print(classification_report(test_labels, yPred))"
      ],
      "execution_count": null,
      "outputs": [
        {
          "output_type": "stream",
          "text": [
            "              precision    recall  f1-score   support\n",
            "\n",
            "           0       0.52      0.74      0.61        23\n",
            "           1       0.45      0.24      0.31        21\n",
            "\n",
            "    accuracy                           0.50        44\n",
            "   macro avg       0.48      0.49      0.46        44\n",
            "weighted avg       0.49      0.50      0.47        44\n",
            "\n"
          ],
          "name": "stdout"
        }
      ]
    },
    {
      "cell_type": "code",
      "metadata": {
        "id": "M0WtjNofMJ_A",
        "colab": {
          "base_uri": "https://localhost:8080/",
          "height": 317
        },
        "outputId": "f59e2656-681d-460e-a427-26c76ede963d"
      },
      "source": [
        "from sklearn.metrics import roc_curve,roc_auc_score\n",
        "import matplotlib.pyplot as plt\n",
        "from sklearn.metrics import matthews_corrcoef\n",
        "\n",
        "fpr , tpr , thresholds = roc_curve (test_labels,yPred)\n",
        "plot_roc_curve (fpr,tpr)\n",
        "auc_score=roc_auc_score(test_labels,yPred) \n",
        "print(auc_score) \n",
        "print(matthews_corrcoef(test_labels,yPred))"
      ],
      "execution_count": null,
      "outputs": [
        {
          "output_type": "display_data",
          "data": {
            "image/png": "[encoded data removed]",
            "text/plain": [
              "<Figure size 432x288 with 1 Axes>"
            ]
          },
          "metadata": {
            "tags": [],
            "needs_background": "light"
          }
        },
        {
          "output_type": "stream",
          "text": [
            "0.4886128364389234\n",
            "-0.02627034687463669\n"
          ],
          "name": "stdout"
        }
      ]
    },
    {
      "cell_type": "code",
      "metadata": {
        "id": "3YlW_J8iMKBt"
      },
      "source": [
        ""
      ],
      "execution_count": null,
      "outputs": []
    },
    {
      "cell_type": "code",
      "metadata": {
        "id": "i9wNTWxBMKFQ"
      },
      "source": [
        ""
      ],
      "execution_count": null,
      "outputs": []
    }
  ]
}