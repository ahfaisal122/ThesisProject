{
  "nbformat": 4,
  "nbformat_minor": 0,
  "metadata": {
    "colab": {
      "name": "vgg19 using MIAS.ipynb",
      "provenance": [],
      "collapsed_sections": []
    },
    "kernelspec": {
      "name": "python3",
      "display_name": "Python 3"
    },
    "accelerator": "GPU"
  },
  "cells": [
    {
      "cell_type": "code",
      "metadata": {
        "id": "CCtz_ioZLKs7",
        "colab": {
          "base_uri": "https://localhost:8080/",
          "height": 121
        },
        "outputId": "f0581ae7-8449-4757-db7b-78f71c6697a8"
      },
      "source": [
        "from google.colab import drive\n",
        "drive.mount('/content/gdrive')"
      ],
      "execution_count": null,
      "outputs": [
        {
          "output_type": "stream",
          "text": [
            "Go to this URL in a browser: https://accounts.google.com/o/oauth2/auth?client_id=947318989803-6bn6qk8qdgf4n4g3pfee6491hc0brc4i.apps.googleusercontent.com&redirect_uri=urn%3aietf%3awg%3aoauth%3a2.0%3aoob&scope=email%20https%3a%2f%2fwww.googleapis.com%2fauth%2fdocs.test%20https%3a%2f%2fwww.googleapis.com%2fauth%2fdrive%20https%3a%2f%2fwww.googleapis.com%2fauth%2fdrive.photos.readonly%20https%3a%2f%2fwww.googleapis.com%2fauth%2fpeopleapi.readonly&response_type=code\n",
            "\n",
            "Enter your authorization code:\n",
            "··········\n",
            "Mounted at /content/gdrive\n"
          ],
          "name": "stdout"
        }
      ]
    },
    {
      "cell_type": "code",
      "metadata": {
        "id": "Icecai0pL_Cz"
      },
      "source": [
        "from keras.layers import Input, Lambda, Dense, Flatten\n",
        "from keras.models import Model\n",
        "from keras.applications.vgg19 import VGG19\n",
        "from keras.applications.resnet50 import ResNet50\n",
        "from keras.applications.vgg16 import preprocess_input\n",
        "from keras.preprocessing import image\n",
        "from keras.preprocessing.image import ImageDataGenerator\n",
        "from keras.models import Sequential\n",
        "import numpy as np\n",
        "from glob import glob\n",
        "import matplotlib.pyplot as plt\n"
      ],
      "execution_count": null,
      "outputs": []
    },
    {
      "cell_type": "code",
      "metadata": {
        "id": "rnL4ivJPL_Ss"
      },
      "source": [
        "# re-size all the images to this\n",
        "IMAGE_SIZE = [224, 224]\n",
        "\n",
        "train_path = '/content/gdrive/My Drive/bcs/train'\n",
        "valid_path = '/content/gdrive/My Drive/bcs/test'\n"
      ],
      "execution_count": null,
      "outputs": []
    },
    {
      "cell_type": "code",
      "metadata": {
        "id": "3swv0k2cL_9P",
        "colab": {
          "base_uri": "https://localhost:8080/",
          "height": 50
        },
        "outputId": "d7f7b714-d428-48cc-993c-e977b9910746"
      },
      "source": [
        "# add preprocessing layer to the front of VGG\n",
        "vgg = VGG19(input_shape=IMAGE_SIZE + [3], weights='imagenet', include_top=False)\n",
        "\n",
        "# don't train existing weights\n",
        "for layer in vgg.layers:\n",
        "  layer.trainable = False"
      ],
      "execution_count": null,
      "outputs": [
        {
          "output_type": "stream",
          "text": [
            "Downloading data from https://storage.googleapis.com/tensorflow/keras-applications/vgg19/vgg19_weights_tf_dim_ordering_tf_kernels_notop.h5\n",
            "80142336/80134624 [==============================] - 0s 0us/step\n"
          ],
          "name": "stdout"
        }
      ]
    },
    {
      "cell_type": "code",
      "metadata": {
        "id": "eYp0-_LwL_8U",
        "colab": {
          "base_uri": "https://localhost:8080/",
          "height": 34
        },
        "outputId": "b3ad17a1-80e7-40cc-cc84-7cfd03a7aa86"
      },
      "source": [
        "# useful for getting number of classes\n",
        "folders = glob('/content/gdrive/My Drive/bcs/train/*')\n",
        "print(len(folders))"
      ],
      "execution_count": null,
      "outputs": [
        {
          "output_type": "stream",
          "text": [
            "2\n"
          ],
          "name": "stdout"
        }
      ]
    },
    {
      "cell_type": "code",
      "metadata": {
        "id": "T7_yZIPLL_7A"
      },
      "source": [
        "# our layers - you can add more if you want\n",
        "x = Flatten()(vgg.output)\n",
        "# x = Dense(1000, activation='relu')(x)\n",
        "prediction = Dense(len(folders), activation='softmax')(x)\n",
        "\n",
        "# create a model object\n",
        "model = Model(inputs=vgg.input, outputs=prediction)"
      ],
      "execution_count": null,
      "outputs": []
    },
    {
      "cell_type": "code",
      "metadata": {
        "id": "SHwI2Xz_L_56",
        "colab": {
          "base_uri": "https://localhost:8080/",
          "height": 958
        },
        "outputId": "5bf14728-8647-4e23-d0d4-0940cb1c56ac"
      },
      "source": [
        "# view the structure of the model\n",
        "model.summary()"
      ],
      "execution_count": null,
      "outputs": [
        {
          "output_type": "stream",
          "text": [
            "Model: \"functional_1\"\n",
            "_________________________________________________________________\n",
            "Layer (type)                 Output Shape              Param #   \n",
            "=================================================================\n",
            "input_1 (InputLayer)         [(None, 224, 224, 3)]     0         \n",
            "_________________________________________________________________\n",
            "block1_conv1 (Conv2D)        (None, 224, 224, 64)      1792      \n",
            "_________________________________________________________________\n",
            "block1_conv2 (Conv2D)        (None, 224, 224, 64)      36928     \n",
            "_________________________________________________________________\n",
            "block1_pool (MaxPooling2D)   (None, 112, 112, 64)      0         \n",
            "_________________________________________________________________\n",
            "block2_conv1 (Conv2D)        (None, 112, 112, 128)     73856     \n",
            "_________________________________________________________________\n",
            "block2_conv2 (Conv2D)        (None, 112, 112, 128)     147584    \n",
            "_________________________________________________________________\n",
            "block2_pool (MaxPooling2D)   (None, 56, 56, 128)       0         \n",
            "_________________________________________________________________\n",
            "block3_conv1 (Conv2D)        (None, 56, 56, 256)       295168    \n",
            "_________________________________________________________________\n",
            "block3_conv2 (Conv2D)        (None, 56, 56, 256)       590080    \n",
            "_________________________________________________________________\n",
            "block3_conv3 (Conv2D)        (None, 56, 56, 256)       590080    \n",
            "_________________________________________________________________\n",
            "block3_conv4 (Conv2D)        (None, 56, 56, 256)       590080    \n",
            "_________________________________________________________________\n",
            "block3_pool (MaxPooling2D)   (None, 28, 28, 256)       0         \n",
            "_________________________________________________________________\n",
            "block4_conv1 (Conv2D)        (None, 28, 28, 512)       1180160   \n",
            "_________________________________________________________________\n",
            "block4_conv2 (Conv2D)        (None, 28, 28, 512)       2359808   \n",
            "_________________________________________________________________\n",
            "block4_conv3 (Conv2D)        (None, 28, 28, 512)       2359808   \n",
            "_________________________________________________________________\n",
            "block4_conv4 (Conv2D)        (None, 28, 28, 512)       2359808   \n",
            "_________________________________________________________________\n",
            "block4_pool (MaxPooling2D)   (None, 14, 14, 512)       0         \n",
            "_________________________________________________________________\n",
            "block5_conv1 (Conv2D)        (None, 14, 14, 512)       2359808   \n",
            "_________________________________________________________________\n",
            "block5_conv2 (Conv2D)        (None, 14, 14, 512)       2359808   \n",
            "_________________________________________________________________\n",
            "block5_conv3 (Conv2D)        (None, 14, 14, 512)       2359808   \n",
            "_________________________________________________________________\n",
            "block5_conv4 (Conv2D)        (None, 14, 14, 512)       2359808   \n",
            "_________________________________________________________________\n",
            "block5_pool (MaxPooling2D)   (None, 7, 7, 512)         0         \n",
            "_________________________________________________________________\n",
            "flatten (Flatten)            (None, 25088)             0         \n",
            "_________________________________________________________________\n",
            "dense (Dense)                (None, 2)                 50178     \n",
            "=================================================================\n",
            "Total params: 20,074,562\n",
            "Trainable params: 50,178\n",
            "Non-trainable params: 20,024,384\n",
            "_________________________________________________________________\n"
          ],
          "name": "stdout"
        }
      ]
    },
    {
      "cell_type": "code",
      "metadata": {
        "id": "LFrAvr3oL_44"
      },
      "source": [
        "import tensorflow as tf\n",
        "opt = tf.keras.optimizers.SGD(learning_rate=0.1)"
      ],
      "execution_count": null,
      "outputs": []
    },
    {
      "cell_type": "code",
      "metadata": {
        "id": "67p1Cm0-L_3z"
      },
      "source": [
        "# tell the model what cost and optimization method to use\n",
        "model.compile(\n",
        "  loss='categorical_crossentropy',\n",
        "  optimizer='adam',\n",
        "  metrics=['accuracy']\n",
        ")"
      ],
      "execution_count": null,
      "outputs": []
    },
    {
      "cell_type": "code",
      "metadata": {
        "id": "4YFhT5E0L_17",
        "colab": {
          "base_uri": "https://localhost:8080/",
          "height": 50
        },
        "outputId": "163121e3-9ce4-44eb-c4fd-e2b04bf7f7f4"
      },
      "source": [
        "\n",
        "from keras.preprocessing.image import ImageDataGenerator\n",
        "\n",
        "train_datagen = ImageDataGenerator(rescale = 1./255,\n",
        "                                   shear_range = 0.2,\n",
        "                                   zoom_range = 0.2,\n",
        "                                   horizontal_flip = True)\n",
        "\n",
        "test_datagen = ImageDataGenerator(rescale = 1./255)\n",
        "\n",
        "training_set = train_datagen.flow_from_directory('/content/gdrive/My Drive/bcs/train',\n",
        "                                                 target_size = (224, 224),\n",
        "                                                 batch_size = 32,\n",
        "                                                 class_mode = 'categorical')\n",
        "\n",
        "test_set = test_datagen.flow_from_directory('/content/gdrive/My Drive/bcs/test',\n",
        "                                            target_size = (224, 224),\n",
        "                                            batch_size = 32,\n",
        "                                            class_mode = 'categorical')\n"
      ],
      "execution_count": null,
      "outputs": [
        {
          "output_type": "stream",
          "text": [
            "Found 96 images belonging to 2 classes.\n",
            "Found 82 images belonging to 2 classes.\n"
          ],
          "name": "stdout"
        }
      ]
    },
    {
      "cell_type": "code",
      "metadata": {
        "id": "g4mlT9wdL_0U",
        "colab": {
          "base_uri": "https://localhost:8080/",
          "height": 739
        },
        "outputId": "cba6cb7c-548d-4ea9-b2c6-6794e9f05add"
      },
      "source": [
        "# fit the model\n",
        "r = model.fit_generator(\n",
        "  training_set,\n",
        "  validation_data=test_set,\n",
        "  epochs=20,\n",
        "  steps_per_epoch=len(training_set),\n",
        "  validation_steps=len(test_set)\n",
        ")"
      ],
      "execution_count": null,
      "outputs": [
        {
          "output_type": "stream",
          "text": [
            "WARNING:tensorflow:From <ipython-input-11-3357bc7d28a7>:7: Model.fit_generator (from tensorflow.python.keras.engine.training) is deprecated and will be removed in a future version.\n",
            "Instructions for updating:\n",
            "Please use Model.fit, which supports generators.\n",
            "Epoch 1/20\n",
            "3/3 [==============================] - 60s 20s/step - loss: 1.6270 - accuracy: 0.4896 - val_loss: 1.8109 - val_accuracy: 0.5000\n",
            "Epoch 2/20\n",
            "3/3 [==============================] - 2s 508ms/step - loss: 2.0067 - accuracy: 0.5000 - val_loss: 1.0148 - val_accuracy: 0.5000\n",
            "Epoch 3/20\n",
            "3/3 [==============================] - 2s 506ms/step - loss: 0.9050 - accuracy: 0.5417 - val_loss: 1.4058 - val_accuracy: 0.5000\n",
            "Epoch 4/20\n",
            "3/3 [==============================] - 2s 501ms/step - loss: 0.9917 - accuracy: 0.5521 - val_loss: 1.2400 - val_accuracy: 0.5000\n",
            "Epoch 5/20\n",
            "3/3 [==============================] - 2s 501ms/step - loss: 0.9401 - accuracy: 0.5208 - val_loss: 1.1473 - val_accuracy: 0.5000\n",
            "Epoch 6/20\n",
            "3/3 [==============================] - 2s 504ms/step - loss: 0.7507 - accuracy: 0.6250 - val_loss: 1.0712 - val_accuracy: 0.4634\n",
            "Epoch 7/20\n",
            "3/3 [==============================] - 2s 506ms/step - loss: 0.7780 - accuracy: 0.5938 - val_loss: 1.0486 - val_accuracy: 0.4878\n",
            "Epoch 8/20\n",
            "3/3 [==============================] - 2s 501ms/step - loss: 0.7566 - accuracy: 0.5729 - val_loss: 1.1459 - val_accuracy: 0.5000\n",
            "Epoch 9/20\n",
            "3/3 [==============================] - 2s 503ms/step - loss: 0.6794 - accuracy: 0.6250 - val_loss: 0.9442 - val_accuracy: 0.4512\n",
            "Epoch 10/20\n",
            "3/3 [==============================] - 1s 499ms/step - loss: 0.6410 - accuracy: 0.6562 - val_loss: 0.9504 - val_accuracy: 0.4878\n",
            "Epoch 11/20\n",
            "3/3 [==============================] - 2s 504ms/step - loss: 0.5996 - accuracy: 0.6562 - val_loss: 0.9796 - val_accuracy: 0.5244\n",
            "Epoch 12/20\n",
            "3/3 [==============================] - 2s 502ms/step - loss: 0.5492 - accuracy: 0.7083 - val_loss: 0.9029 - val_accuracy: 0.4878\n",
            "Epoch 13/20\n",
            "3/3 [==============================] - 2s 505ms/step - loss: 0.5402 - accuracy: 0.7083 - val_loss: 0.8807 - val_accuracy: 0.4756\n",
            "Epoch 14/20\n",
            "3/3 [==============================] - 1s 500ms/step - loss: 0.5039 - accuracy: 0.8125 - val_loss: 0.9119 - val_accuracy: 0.5122\n",
            "Epoch 15/20\n",
            "3/3 [==============================] - 1s 499ms/step - loss: 0.5607 - accuracy: 0.7188 - val_loss: 0.9222 - val_accuracy: 0.5122\n",
            "Epoch 16/20\n",
            "3/3 [==============================] - 2s 500ms/step - loss: 0.5756 - accuracy: 0.6146 - val_loss: 0.8540 - val_accuracy: 0.4756\n",
            "Epoch 17/20\n",
            "3/3 [==============================] - 1s 496ms/step - loss: 0.5165 - accuracy: 0.7396 - val_loss: 1.0212 - val_accuracy: 0.4878\n",
            "Epoch 18/20\n",
            "3/3 [==============================] - 1s 496ms/step - loss: 0.4982 - accuracy: 0.7292 - val_loss: 0.8615 - val_accuracy: 0.5366\n",
            "Epoch 19/20\n",
            "3/3 [==============================] - 1s 499ms/step - loss: 0.5388 - accuracy: 0.7188 - val_loss: 0.9535 - val_accuracy: 0.4878\n",
            "Epoch 20/20\n",
            "3/3 [==============================] - 2s 502ms/step - loss: 0.5190 - accuracy: 0.7500 - val_loss: 1.0037 - val_accuracy: 0.5244\n"
          ],
          "name": "stdout"
        }
      ]
    },
    {
      "cell_type": "code",
      "metadata": {
        "id": "LMIwKxP8L_zg",
        "colab": {
          "base_uri": "https://localhost:8080/",
          "height": 530
        },
        "outputId": "457fe97a-f9f6-4958-9530-d154b107777c"
      },
      "source": [
        "# loss\n",
        "plt.plot(r.history['loss'], label='train loss')\n",
        "plt.plot(r.history['val_loss'], label='val loss')\n",
        "plt.legend()\n",
        "plt.show()\n",
        "plt.savefig('LossVal_loss')\n",
        "\n",
        "# accuracies\n",
        "plt.plot(r.history['accuracy'], label='train acc')\n",
        "plt.plot(r.history['val_accuracy'], label='val acc')\n",
        "plt.legend()\n",
        "plt.show()\n",
        "plt.savefig('AccVal_acc')"
      ],
      "execution_count": null,
      "outputs": [
        {
          "output_type": "display_data",
          "data": {
            "image/png": "[encoded data removed]",
            "text/plain": [
              "<Figure size 432x288 with 1 Axes>"
            ]
          },
          "metadata": {
            "tags": [],
            "needs_background": "light"
          }
        },
        {
          "output_type": "display_data",
          "data": {
            "image/png": "[encoded data removed]",
            "text/plain": [
              "<Figure size 432x288 with 1 Axes>"
            ]
          },
          "metadata": {
            "tags": [],
            "needs_background": "light"
          }
        },
        {
          "output_type": "display_data",
          "data": {
            "text/plain": [
              "<Figure size 432x288 with 0 Axes>"
            ]
          },
          "metadata": {
            "tags": []
          }
        }
      ]
    },
    {
      "cell_type": "code",
      "metadata": {
        "id": "yZGelCdAL_Bs"
      },
      "source": [
        "predictions = model.predict(test_set).argmax( axis=-1 ) \n"
      ],
      "execution_count": null,
      "outputs": []
    },
    {
      "cell_type": "code",
      "metadata": {
        "id": "eVGDJ0GaOkEY",
        "colab": {
          "base_uri": "https://localhost:8080/",
          "height": 50
        },
        "outputId": "60dc67b3-de37-4c1f-b2b9-347ceb33d0fa"
      },
      "source": [
        "print(len(predictions))\n",
        "#predictions.resize(357,refcheck=False)\n",
        "print(len(predictions))"
      ],
      "execution_count": null,
      "outputs": [
        {
          "output_type": "stream",
          "text": [
            "82\n",
            "82\n"
          ],
          "name": "stdout"
        }
      ]
    },
    {
      "cell_type": "code",
      "metadata": {
        "id": "T-ci53n1OkN7",
        "colab": {
          "base_uri": "https://localhost:8080/",
          "height": 67
        },
        "outputId": "29cd4da0-0594-479b-eaa1-aeb06f6e9ae1"
      },
      "source": [
        "print ( predictions )"
      ],
      "execution_count": null,
      "outputs": [
        {
          "output_type": "stream",
          "text": [
            "[0 0 0 0 0 0 0 1 0 0 0 0 0 0 0 1 0 1 1 1 0 0 1 0 0 0 0 0 0 0 0 0 0 0 0 1 0\n",
            " 0 0 1 0 0 0 0 0 0 0 0 0 0 0 0 0 0 0 0 0 0 0 0 0 0 1 0 0 0 0 0 1 1 0 1 0 0\n",
            " 0 0 0 0 0 0 0 0]\n"
          ],
          "name": "stdout"
        }
      ]
    },
    {
      "cell_type": "code",
      "metadata": {
        "id": "wLeAH_PVOkMX",
        "colab": {
          "base_uri": "https://localhost:8080/",
          "height": 50
        },
        "outputId": "d403a87c-4cc4-4b2c-f7ac-e2699094cbf7"
      },
      "source": [
        "from sklearn.metrics import f1_score\n",
        "from sklearn import metrics\n",
        "from sklearn.metrics import plot_confusion_matrix\n",
        "#print(test_set)\n",
        "print('F1_score : ',f1_score(test_set.classes,predictions,average='micro'))\n",
        "print('sensitibity : ',metrics.recall_score(test_set.classes,predictions,average='micro'))"
      ],
      "execution_count": null,
      "outputs": [
        {
          "output_type": "stream",
          "text": [
            "F1_score :  0.45121951219512196\n",
            "sensitibity :  0.45121951219512196\n"
          ],
          "name": "stdout"
        }
      ]
    },
    {
      "cell_type": "code",
      "metadata": {
        "id": "YjSWFSAUPFr8",
        "colab": {
          "base_uri": "https://localhost:8080/",
          "height": 168
        },
        "outputId": "ce657bf2-ec81-4168-96eb-b6463324d89f"
      },
      "source": [
        "from sklearn.metrics import classification_report\n",
        "print(classification_report(test_set.classes, predictions))"
      ],
      "execution_count": null,
      "outputs": [
        {
          "output_type": "stream",
          "text": [
            "              precision    recall  f1-score   support\n",
            "\n",
            "           0       0.47      0.80      0.59        41\n",
            "           1       0.33      0.10      0.15        41\n",
            "\n",
            "    accuracy                           0.45        82\n",
            "   macro avg       0.40      0.45      0.37        82\n",
            "weighted avg       0.40      0.45      0.37        82\n",
            "\n"
          ],
          "name": "stdout"
        }
      ]
    },
    {
      "cell_type": "code",
      "metadata": {
        "id": "nIin1soZPHPt"
      },
      "source": [
        "def plot_roc_curve(fpr,tpr): \n",
        "  plt.plot(fpr,tpr) \n",
        "  plt.axis([0,1,0,1]) \n",
        "  plt.xlabel('False Positive Rate') \n",
        "  plt.ylabel('True Positive Rate') \n",
        "  plt.show() "
      ],
      "execution_count": null,
      "outputs": []
    },
    {
      "cell_type": "code",
      "metadata": {
        "id": "8_xAUHsROkJY",
        "colab": {
          "base_uri": "https://localhost:8080/",
          "height": 317
        },
        "outputId": "bb74d8d1-7783-44f0-904a-a660740e22e8"
      },
      "source": [
        "from sklearn.metrics import roc_curve,roc_auc_score\n",
        "import matplotlib.pyplot as plt\n",
        "from sklearn.metrics import matthews_corrcoef\n",
        "\n",
        "fpr , tpr , thresholds = roc_curve (test_set.classes,predictions)\n",
        "plot_roc_curve (fpr,tpr)\n",
        "auc_score=roc_auc_score(test_set.classes,predictions) \n",
        "print(auc_score) \n",
        "print(matthews_corrcoef(test_set.classes,predictions))"
      ],
      "execution_count": null,
      "outputs": [
        {
          "output_type": "display_data",
          "data": {
            "image/png": "[encoded data removed]",
            "text/plain": [
              "<Figure size 432x288 with 1 Axes>"
            ]
          },
          "metadata": {
            "tags": [],
            "needs_background": "light"
          }
        },
        {
          "output_type": "stream",
          "text": [
            "0.451219512195122\n",
            "-0.13801311186847084\n"
          ],
          "name": "stdout"
        }
      ]
    }
  ]
}