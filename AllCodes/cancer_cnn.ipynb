{
  "nbformat": 4,
  "nbformat_minor": 0,
  "metadata": {
    "colab": {
      "name": "cancer_cnn.ipynb",
      "provenance": [],
      "toc_visible": true
    },
    "kernelspec": {
      "name": "python3",
      "display_name": "Python 3"
    }
  },
  "cells": [
    {
      "cell_type": "code",
      "metadata": {
        "id": "1dccywaiyqkk"
      },
      "source": [
        "from google.colab import drive\n",
        "drive.mount('/content/gdrive')"
      ],
      "execution_count": null,
      "outputs": []
    },
    {
      "cell_type": "code",
      "metadata": {
        "id": "7TunbA282Q6q"
      },
      "source": [
        "!unzip -q \"/content/breast.zip\""
      ],
      "execution_count": null,
      "outputs": []
    },
    {
      "cell_type": "code",
      "metadata": {
        "id": "u3k4VrNJT_n0"
      },
      "source": [
        "pip install scikit-learn==0.19.1 "
      ],
      "execution_count": null,
      "outputs": []
    },
    {
      "cell_type": "code",
      "metadata": {
        "id": "KD2FY49zy8CS",
        "colab": {
          "base_uri": "https://localhost:8080/",
          "height": 34
        },
        "outputId": "4980cd87-fc1b-4cc7-c0ab-2985e7031451"
      },
      "source": [
        "import numpy as np # linear algebra\n",
        "import cv2\n",
        "\n",
        "import os\n",
        "import random\n",
        "import pickle\n",
        "import matplotlib.pyplot as plt\n",
        "\n",
        "from sklearn.model_selection import train_test_split\n",
        "import tensorflow as tf\n",
        "from tensorflow.keras.layers import (\n",
        "    Conv2D, MaxPooling2D, \n",
        "    Dense, Dropout, \n",
        "    Flatten)\n",
        "from tensorflow.keras.models import Sequential\n",
        "from tensorflow.keras.preprocessing.image import ImageDataGenerator\n",
        "print(os.listdir(\"/content/gdrive/My Drive/bb/breast\"))"
      ],
      "execution_count": null,
      "outputs": [
        {
          "output_type": "stream",
          "text": [
            "['cancer', 'normal']\n"
          ],
          "name": "stdout"
        }
      ]
    },
    {
      "cell_type": "code",
      "metadata": {
        "id": "4nh8m0F0768d"
      },
      "source": [
        "IMG_SIZE = 128"
      ],
      "execution_count": null,
      "outputs": []
    },
    {
      "cell_type": "code",
      "metadata": {
        "id": "yP0lsOJmCAQX"
      },
      "source": [
        "CATEGORIES = ['cancer', 'normal']\n",
        "dataset = []\n",
        "\n",
        "def generate_data():\n",
        "    for category in CATEGORIES:\n",
        "        path = f'/content/gdrive/My Drive/bb/breast/{category}'\n",
        "        class_id = CATEGORIES.index(category)\n",
        "        for image in os.listdir(path):\n",
        "            try:\n",
        "                image_array = cv2.imread(os.path.join(path, image), cv2.IMREAD_COLOR)\n",
        "                image_array = cv2.resize(image_array, (IMG_SIZE , IMG_SIZE))\n",
        "                dataset.append([image_array, class_id])\n",
        "            except Exception as e:\n",
        "                print(e)\n",
        "    random.shuffle(dataset)\n",
        "                \n",
        "generate_data()"
      ],
      "execution_count": null,
      "outputs": []
    },
    {
      "cell_type": "code",
      "metadata": {
        "id": "N8s6PxdfXLr8",
        "colab": {
          "base_uri": "https://localhost:8080/",
          "height": 34
        },
        "outputId": "2bf99bba-c916-4943-a137-ed00e07bc029"
      },
      "source": [
        "print(len(dataset))"
      ],
      "execution_count": null,
      "outputs": [
        {
          "output_type": "stream",
          "text": [
            "178\n"
          ],
          "name": "stdout"
        }
      ]
    },
    {
      "cell_type": "code",
      "metadata": {
        "id": "ETGQllvgXQAn"
      },
      "source": [
        "data = []\n",
        "labels = []\n",
        "for features, label in dataset:\n",
        "    data.append(features)\n",
        "    labels.append(label)"
      ],
      "execution_count": null,
      "outputs": []
    },
    {
      "cell_type": "code",
      "metadata": {
        "id": "Uvose2iOXSJm",
        "colab": {
          "base_uri": "https://localhost:8080/",
          "height": 1000
        },
        "outputId": "6a4d0dba-79b4-4c69-c35f-135107d3e0a1"
      },
      "source": [
        "data = np.array(data)\n",
        "data.reshape(-1, 128, 128, 3)"
      ],
      "execution_count": null,
      "outputs": [
        {
          "output_type": "execute_result",
          "data": {
            "text/plain": [
              "array([[[[  0,   0,   0],\n",
              "         [  0,   0,   0],\n",
              "         [  0,   0,   0],\n",
              "         ...,\n",
              "         [  0,   0,   0],\n",
              "         [  0,   0,   0],\n",
              "         [  0,   0,   0]],\n",
              "\n",
              "        [[  0,   0,   0],\n",
              "         [  0,   0,   0],\n",
              "         [  0,   0,   0],\n",
              "         ...,\n",
              "         [  0,   0,   0],\n",
              "         [  0,   0,   0],\n",
              "         [  0,   0,   0]],\n",
              "\n",
              "        [[  0,   0,   0],\n",
              "         [  0,   0,   0],\n",
              "         [  0,   0,   0],\n",
              "         ...,\n",
              "         [  0,   0,   0],\n",
              "         [  0,   0,   0],\n",
              "         [  0,   0,   0]],\n",
              "\n",
              "        ...,\n",
              "\n",
              "        [[  0,   0,   0],\n",
              "         [  0,   0,   0],\n",
              "         [  0,   0,   0],\n",
              "         ...,\n",
              "         [  0,   0,   0],\n",
              "         [  0,   0,   0],\n",
              "         [  0,   0,   0]],\n",
              "\n",
              "        [[  0,   0,   0],\n",
              "         [  0,   0,   0],\n",
              "         [  0,   0,   0],\n",
              "         ...,\n",
              "         [  0,   0,   0],\n",
              "         [  0,   0,   0],\n",
              "         [  0,   0,   0]],\n",
              "\n",
              "        [[  0,   0,   0],\n",
              "         [  0,   0,   0],\n",
              "         [  0,   0,   0],\n",
              "         ...,\n",
              "         [  0,   0,   0],\n",
              "         [  0,   0,   0],\n",
              "         [  0,   0,   0]]],\n",
              "\n",
              "\n",
              "       [[[  0,   0,   0],\n",
              "         [  0,   0,   0],\n",
              "         [  0,   0,   0],\n",
              "         ...,\n",
              "         [  0,   0,   0],\n",
              "         [  0,   0,   0],\n",
              "         [  0,   0,   0]],\n",
              "\n",
              "        [[  0,   0,   0],\n",
              "         [  0,   0,   0],\n",
              "         [  0,   0,   0],\n",
              "         ...,\n",
              "         [  0,   0,   0],\n",
              "         [  0,   0,   0],\n",
              "         [  0,   0,   0]],\n",
              "\n",
              "        [[  0,   0,   0],\n",
              "         [  0,   0,   0],\n",
              "         [  0,   0,   0],\n",
              "         ...,\n",
              "         [  0,   0,   0],\n",
              "         [  0,   0,   0],\n",
              "         [  0,   0,   0]],\n",
              "\n",
              "        ...,\n",
              "\n",
              "        [[  0,   0,   0],\n",
              "         [  0,   0,   0],\n",
              "         [  0,   0,   0],\n",
              "         ...,\n",
              "         [  0,   0,   0],\n",
              "         [  0,   0,   0],\n",
              "         [  0,   0,   0]],\n",
              "\n",
              "        [[  0,   0,   0],\n",
              "         [  0,   0,   0],\n",
              "         [  0,   0,   0],\n",
              "         ...,\n",
              "         [  0,   0,   0],\n",
              "         [  0,   0,   0],\n",
              "         [  0,   0,   0]],\n",
              "\n",
              "        [[  0,   0,   0],\n",
              "         [  0,   0,   0],\n",
              "         [  0,   0,   0],\n",
              "         ...,\n",
              "         [  0,   0,   0],\n",
              "         [  0,   0,   0],\n",
              "         [  0,   0,   0]]],\n",
              "\n",
              "\n",
              "       [[[  0,   0,   0],\n",
              "         [  0,   0,   0],\n",
              "         [  0,   0,   0],\n",
              "         ...,\n",
              "         [  0,   0,   0],\n",
              "         [  0,   0,   0],\n",
              "         [  0,   0,   0]],\n",
              "\n",
              "        [[  0,   0,   0],\n",
              "         [  0,   0,   0],\n",
              "         [  0,   0,   0],\n",
              "         ...,\n",
              "         [  0,   0,   0],\n",
              "         [  0,   0,   0],\n",
              "         [  0,   0,   0]],\n",
              "\n",
              "        [[  0,   0,   0],\n",
              "         [  0,   0,   0],\n",
              "         [  0,   0,   0],\n",
              "         ...,\n",
              "         [  0,   0,   0],\n",
              "         [  0,   0,   0],\n",
              "         [  0,   0,   0]],\n",
              "\n",
              "        ...,\n",
              "\n",
              "        [[  0,   0,   0],\n",
              "         [  0,   0,   0],\n",
              "         [  0,   0,   0],\n",
              "         ...,\n",
              "         [  0,   0,   0],\n",
              "         [  0,   0,   0],\n",
              "         [  0,   0,   0]],\n",
              "\n",
              "        [[  0,   0,   0],\n",
              "         [  0,   0,   0],\n",
              "         [  0,   0,   0],\n",
              "         ...,\n",
              "         [  0,   0,   0],\n",
              "         [  0,   0,   0],\n",
              "         [  0,   0,   0]],\n",
              "\n",
              "        [[  0,   0,   0],\n",
              "         [  0,   0,   0],\n",
              "         [  0,   0,   0],\n",
              "         ...,\n",
              "         [  0,   0,   0],\n",
              "         [  0,   0,   0],\n",
              "         [  0,   0,   0]]],\n",
              "\n",
              "\n",
              "       ...,\n",
              "\n",
              "\n",
              "       [[[  0,   0,   0],\n",
              "         [ 80,  80,  80],\n",
              "         [214, 214, 214],\n",
              "         ...,\n",
              "         [  1,   1,   1],\n",
              "         [  1,   1,   1],\n",
              "         [  0,   0,   0]],\n",
              "\n",
              "        [[  0,   0,   0],\n",
              "         [ 81,  81,  81],\n",
              "         [215, 215, 215],\n",
              "         ...,\n",
              "         [  1,   1,   1],\n",
              "         [  1,   1,   1],\n",
              "         [  0,   0,   0]],\n",
              "\n",
              "        [[  0,   0,   0],\n",
              "         [ 79,  79,  79],\n",
              "         [214, 214, 214],\n",
              "         ...,\n",
              "         [  1,   1,   1],\n",
              "         [  1,   1,   1],\n",
              "         [  0,   0,   0]],\n",
              "\n",
              "        ...,\n",
              "\n",
              "        [[  0,   0,   0],\n",
              "         [ 40,  40,  40],\n",
              "         [ 86,  86,  86],\n",
              "         ...,\n",
              "         [ 23,  23,  23],\n",
              "         [ 12,  12,  12],\n",
              "         [  0,   0,   0]],\n",
              "\n",
              "        [[  0,   0,   0],\n",
              "         [ 43,  43,  43],\n",
              "         [ 93,  93,  93],\n",
              "         ...,\n",
              "         [ 18,  18,  18],\n",
              "         [ 11,  11,  11],\n",
              "         [  0,   0,   0]],\n",
              "\n",
              "        [[  0,   0,   0],\n",
              "         [ 40,  40,  40],\n",
              "         [ 95,  95,  95],\n",
              "         ...,\n",
              "         [ 18,  18,  18],\n",
              "         [  6,   6,   6],\n",
              "         [  0,   0,   0]]],\n",
              "\n",
              "\n",
              "       [[[  0,   0,   0],\n",
              "         [  0,   0,   0],\n",
              "         [  0,   0,   0],\n",
              "         ...,\n",
              "         [  0,   0,   0],\n",
              "         [  0,   0,   0],\n",
              "         [  0,   0,   0]],\n",
              "\n",
              "        [[  0,   0,   0],\n",
              "         [  0,   0,   0],\n",
              "         [  0,   0,   0],\n",
              "         ...,\n",
              "         [  0,   0,   0],\n",
              "         [  0,   0,   0],\n",
              "         [  0,   0,   0]],\n",
              "\n",
              "        [[  0,   0,   0],\n",
              "         [  0,   0,   0],\n",
              "         [  0,   0,   0],\n",
              "         ...,\n",
              "         [  0,   0,   0],\n",
              "         [  0,   0,   0],\n",
              "         [  0,   0,   0]],\n",
              "\n",
              "        ...,\n",
              "\n",
              "        [[  0,   0,   0],\n",
              "         [  0,   0,   0],\n",
              "         [  0,   0,   0],\n",
              "         ...,\n",
              "         [  0,   0,   0],\n",
              "         [  0,   0,   0],\n",
              "         [  0,   0,   0]],\n",
              "\n",
              "        [[  0,   0,   0],\n",
              "         [  0,   0,   0],\n",
              "         [  0,   0,   0],\n",
              "         ...,\n",
              "         [  0,   0,   0],\n",
              "         [  0,   0,   0],\n",
              "         [  0,   0,   0]],\n",
              "\n",
              "        [[  0,   0,   0],\n",
              "         [  0,   0,   0],\n",
              "         [  0,   0,   0],\n",
              "         ...,\n",
              "         [  0,   0,   0],\n",
              "         [  0,   0,   0],\n",
              "         [  0,   0,   0]]],\n",
              "\n",
              "\n",
              "       [[[  0,   0,   0],\n",
              "         [  0,   0,   0],\n",
              "         [  0,   0,   0],\n",
              "         ...,\n",
              "         [  0,   0,   0],\n",
              "         [  0,   0,   0],\n",
              "         [  0,   0,   0]],\n",
              "\n",
              "        [[  0,   0,   0],\n",
              "         [  0,   0,   0],\n",
              "         [  0,   0,   0],\n",
              "         ...,\n",
              "         [  0,   0,   0],\n",
              "         [  0,   0,   0],\n",
              "         [  0,   0,   0]],\n",
              "\n",
              "        [[  0,   0,   0],\n",
              "         [  0,   0,   0],\n",
              "         [  0,   0,   0],\n",
              "         ...,\n",
              "         [  0,   0,   0],\n",
              "         [  0,   0,   0],\n",
              "         [  0,   0,   0]],\n",
              "\n",
              "        ...,\n",
              "\n",
              "        [[  0,   0,   0],\n",
              "         [  0,   0,   0],\n",
              "         [  0,   0,   0],\n",
              "         ...,\n",
              "         [  0,   0,   0],\n",
              "         [  0,   0,   0],\n",
              "         [  0,   0,   0]],\n",
              "\n",
              "        [[  0,   0,   0],\n",
              "         [  0,   0,   0],\n",
              "         [  0,   0,   0],\n",
              "         ...,\n",
              "         [  0,   0,   0],\n",
              "         [  0,   0,   0],\n",
              "         [  0,   0,   0]],\n",
              "\n",
              "        [[  0,   0,   0],\n",
              "         [  0,   0,   0],\n",
              "         [  0,   0,   0],\n",
              "         ...,\n",
              "         [  0,   0,   0],\n",
              "         [  0,   0,   0],\n",
              "         [  0,   0,   0]]]], dtype=uint8)"
            ]
          },
          "metadata": {
            "tags": []
          },
          "execution_count": 9
        }
      ]
    },
    {
      "cell_type": "code",
      "metadata": {
        "id": "Obc6N5c3XgM6"
      },
      "source": [
        "pickle.dump(data, open(\"data.pickle\", \"wb\"))\n",
        "\n",
        "pickle.dump(labels, open(\"labels.pickle\", \"wb\"))"
      ],
      "execution_count": null,
      "outputs": []
    },
    {
      "cell_type": "code",
      "metadata": {
        "id": "TcZJWKj7Xh5P"
      },
      "source": [
        "data = pickle.load(open(\"data.pickle\", \"rb\"))\n",
        "\n",
        "labels = pickle.load(open(\"labels.pickle\", \"rb\"))"
      ],
      "execution_count": null,
      "outputs": []
    },
    {
      "cell_type": "code",
      "metadata": {
        "id": "h5DTojmFXk4U"
      },
      "source": [
        "train_data, data, train_labels, labels = train_test_split(data, labels,test_size=0.15)\n",
        "\n",
        "test_data, validation_data, test_labels, validation_labels = train_test_split(data, labels,test_size=0.7)"
      ],
      "execution_count": null,
      "outputs": []
    },
    {
      "cell_type": "code",
      "metadata": {
        "id": "PH0euN7IXqpd",
        "colab": {
          "base_uri": "https://localhost:8080/",
          "height": 251
        },
        "outputId": "b253527c-adcd-4096-c3bb-79a1e0442504"
      },
      "source": [
        "plt.figure(figsize=(10, 10))\n",
        "i = 0\n",
        "for i in range(len(test_data)):\n",
        "    plt.subplot(5, 5, i+1)\n",
        "    plt.xticks([])\n",
        "    plt.yticks([])\n",
        "    plt.imshow(test_data[i])\n",
        "    if(test_labels[i] == 0):\n",
        "        plt.xlabel('Infected')\n",
        "    else:\n",
        "        plt.xlabel('Uninfected')\n",
        "    i += 1\n",
        "plt.show()"
      ],
      "execution_count": null,
      "outputs": [
        {
          "output_type": "display_data",
          "data": {
            "image/png": "[encoded data removed]",
            "text/plain": [
              "<Figure size 720x720 with 8 Axes>"
            ]
          },
          "metadata": {
            "tags": []
          }
        }
      ]
    },
    {
      "cell_type": "code",
      "metadata": {
        "id": "2nSKlGHFX61b"
      },
      "source": [
        "datagen_train = ImageDataGenerator(rescale=1./255,\n",
        "                            rotation_range=45,\n",
        "                            width_shift_range=0.2,\n",
        "                            height_shift_range=0.2,\n",
        "                            shear_range=0.2,\n",
        "                            zoom_range=0.2,\n",
        "                            horizontal_flip=True)\n",
        "\n",
        "datagen_test = ImageDataGenerator(rescale=1./255)\n",
        "datagen_validation = ImageDataGenerator(rescale=1./255)"
      ],
      "execution_count": null,
      "outputs": []
    },
    {
      "cell_type": "code",
      "metadata": {
        "id": "UJ7Ds9eRYCTo"
      },
      "source": [
        "datagen_train.fit(train_data)\n",
        "datagen_test.fit(test_data)\n",
        "datagen_test.fit(validation_data)"
      ],
      "execution_count": null,
      "outputs": []
    },
    {
      "cell_type": "code",
      "metadata": {
        "id": "AULP9a8AYFQl",
        "colab": {
          "base_uri": "https://localhost:8080/",
          "height": 87
        },
        "outputId": "a80eed33-25fb-4c55-8e83-7fa26eb49796"
      },
      "source": [
        "model = Sequential([\n",
        "    Conv2D(32, (3, 3), activation='relu', input_shape=(IMG_SIZE, IMG_SIZE, 3)),\n",
        "    MaxPooling2D((2, 2)),\n",
        "    \n",
        "    Conv2D(64, (3, 3), activation=\"relu\"),\n",
        "    MaxPooling2D((2, 2)),\n",
        "    \n",
        "    Conv2D(128, (3, 3), activation=\"relu\"),\n",
        "    MaxPooling2D((2, 2)),\n",
        "    \n",
        "    Conv2D(256, (3, 3), activation=\"relu\"),\n",
        "    MaxPooling2D((2, 2)),\n",
        "    \n",
        "    Flatten(),\n",
        "    Dense(256, activation=\"relu\"),\n",
        "    Dense(2, activation='softmax')\n",
        "])"
      ],
      "execution_count": null,
      "outputs": [
        {
          "output_type": "stream",
          "text": [
            "WARNING:tensorflow:From /usr/local/lib/python3.6/dist-packages/tensorflow_core/python/ops/resource_variable_ops.py:1630: calling BaseResourceVariable.__init__ (from tensorflow.python.ops.resource_variable_ops) with constraint is deprecated and will be removed in a future version.\n",
            "Instructions for updating:\n",
            "If using Keras pass *_constraint arguments to layers.\n"
          ],
          "name": "stdout"
        }
      ]
    },
    {
      "cell_type": "code",
      "metadata": {
        "id": "ABCj6-w_YJcm"
      },
      "source": [
        "model.compile(optimizer='adam',\n",
        "             loss='sparse_categorical_crossentropy',\n",
        "             metrics=['accuracy'])"
      ],
      "execution_count": null,
      "outputs": []
    },
    {
      "cell_type": "code",
      "metadata": {
        "id": "ayUtOnZtYOfg",
        "colab": {
          "base_uri": "https://localhost:8080/",
          "height": 1000
        },
        "outputId": "1465be03-43c1-4150-aaa8-cdf5d78a36e0"
      },
      "source": [
        "BATCH_SIZE = 32\n",
        "epochs = 30\n",
        "history = model.fit_generator(datagen_train.flow(train_data, train_labels, batch_size=BATCH_SIZE),\n",
        "                   steps_per_epoch=8000 / BATCH_SIZE,\n",
        "                   epochs=epochs,\n",
        "                   validation_data=datagen_validation.flow(validation_data, \n",
        "                                                     validation_labels, batch_size=BATCH_SIZE),\n",
        "                    \n",
        "                   )"
      ],
      "execution_count": null,
      "outputs": [
        {
          "output_type": "stream",
          "text": [
            "Epoch 1/30\n",
            "249/250 [============================>.] - ETA: 1s - loss: 0.6899 - acc: 0.5368Epoch 1/30\n",
            "250/250 [==============================] - 273s 1s/step - loss: 0.6899 - acc: 0.5368 - val_loss: 0.6644 - val_acc: 0.7368\n",
            "Epoch 2/30\n",
            "249/250 [============================>.] - ETA: 1s - loss: 0.6645 - acc: 0.5866Epoch 1/30\n",
            "250/250 [==============================] - 269s 1s/step - loss: 0.6643 - acc: 0.5869 - val_loss: 0.6793 - val_acc: 0.5263\n",
            "Epoch 3/30\n",
            "249/250 [============================>.] - ETA: 1s - loss: 0.6482 - acc: 0.6103Epoch 1/30\n",
            "250/250 [==============================] - 268s 1s/step - loss: 0.6482 - acc: 0.6102 - val_loss: 0.6510 - val_acc: 0.5263\n",
            "Epoch 4/30\n",
            "249/250 [============================>.] - ETA: 1s - loss: 0.6275 - acc: 0.6327Epoch 1/30\n",
            "250/250 [==============================] - 269s 1s/step - loss: 0.6276 - acc: 0.6326 - val_loss: 0.6180 - val_acc: 0.6842\n",
            "Epoch 5/30\n",
            "249/250 [============================>.] - ETA: 1s - loss: 0.6217 - acc: 0.6417Epoch 1/30\n",
            "250/250 [==============================] - 269s 1s/step - loss: 0.6215 - acc: 0.6419 - val_loss: 0.6659 - val_acc: 0.5789\n",
            "Epoch 6/30\n",
            "249/250 [============================>.] - ETA: 1s - loss: 0.5949 - acc: 0.6681Epoch 1/30\n",
            "250/250 [==============================] - 270s 1s/step - loss: 0.5945 - acc: 0.6689 - val_loss: 0.7196 - val_acc: 0.5789\n",
            "Epoch 7/30\n",
            "249/250 [============================>.] - ETA: 1s - loss: 0.5811 - acc: 0.6746Epoch 1/30\n",
            "250/250 [==============================] - 272s 1s/step - loss: 0.5807 - acc: 0.6748 - val_loss: 0.7032 - val_acc: 0.5789\n",
            "Epoch 8/30\n",
            "249/250 [============================>.] - ETA: 1s - loss: 0.5641 - acc: 0.6970Epoch 1/30\n",
            "250/250 [==============================] - 272s 1s/step - loss: 0.5640 - acc: 0.6970 - val_loss: 0.5306 - val_acc: 0.6842\n",
            "Epoch 9/30\n",
            "249/250 [============================>.] - ETA: 1s - loss: 0.5431 - acc: 0.7108Epoch 1/30\n",
            "250/250 [==============================] - 272s 1s/step - loss: 0.5435 - acc: 0.7107 - val_loss: 0.6383 - val_acc: 0.7368\n",
            "Epoch 10/30\n",
            "249/250 [============================>.] - ETA: 1s - loss: 0.5217 - acc: 0.7233Epoch 1/30\n",
            "250/250 [==============================] - 271s 1s/step - loss: 0.5219 - acc: 0.7232 - val_loss: 0.6390 - val_acc: 0.6842\n",
            "Epoch 11/30\n",
            "249/250 [============================>.] - ETA: 1s - loss: 0.5122 - acc: 0.7300Epoch 1/30\n",
            "250/250 [==============================] - 271s 1s/step - loss: 0.5128 - acc: 0.7299 - val_loss: 0.6634 - val_acc: 0.6842\n",
            "Epoch 12/30\n",
            "249/250 [============================>.] - ETA: 1s - loss: 0.4851 - acc: 0.7502Epoch 1/30\n",
            "250/250 [==============================] - 270s 1s/step - loss: 0.4854 - acc: 0.7503 - val_loss: 0.6048 - val_acc: 0.6842\n",
            "Epoch 13/30\n",
            "249/250 [============================>.] - ETA: 1s - loss: 0.4678 - acc: 0.7565Epoch 1/30\n",
            "250/250 [==============================] - 271s 1s/step - loss: 0.4674 - acc: 0.7566 - val_loss: 0.7824 - val_acc: 0.6842\n",
            "Epoch 14/30\n",
            "249/250 [============================>.] - ETA: 1s - loss: 0.4385 - acc: 0.7796Epoch 1/30\n",
            "250/250 [==============================] - 273s 1s/step - loss: 0.4385 - acc: 0.7795 - val_loss: 0.9394 - val_acc: 0.5789\n",
            "Epoch 15/30\n",
            "249/250 [============================>.] - ETA: 1s - loss: 0.4126 - acc: 0.7994Epoch 1/30\n",
            "250/250 [==============================] - 275s 1s/step - loss: 0.4122 - acc: 0.7997 - val_loss: 0.7859 - val_acc: 0.7368\n",
            "Epoch 16/30\n",
            "249/250 [============================>.] - ETA: 1s - loss: 0.4141 - acc: 0.8050Epoch 1/30\n",
            "250/250 [==============================] - 276s 1s/step - loss: 0.4138 - acc: 0.8056 - val_loss: 0.7199 - val_acc: 0.6842\n",
            "Epoch 17/30\n",
            "249/250 [============================>.] - ETA: 1s - loss: 0.3724 - acc: 0.8244Epoch 1/30\n",
            "250/250 [==============================] - 277s 1s/step - loss: 0.3725 - acc: 0.8242 - val_loss: 0.8956 - val_acc: 0.6316\n",
            "Epoch 18/30\n",
            "249/250 [============================>.] - ETA: 1s - loss: 0.3584 - acc: 0.8309Epoch 1/30\n",
            "250/250 [==============================] - 276s 1s/step - loss: 0.3583 - acc: 0.8310 - val_loss: 0.9267 - val_acc: 0.4737\n",
            "Epoch 19/30\n",
            "249/250 [============================>.] - ETA: 1s - loss: 0.3284 - acc: 0.8482Epoch 1/30\n",
            "250/250 [==============================] - 272s 1s/step - loss: 0.3282 - acc: 0.8482 - val_loss: 0.8366 - val_acc: 0.7368\n",
            "Epoch 20/30\n",
            "249/250 [============================>.] - ETA: 1s - loss: 0.3096 - acc: 0.8603Epoch 1/30\n",
            "250/250 [==============================] - 272s 1s/step - loss: 0.3108 - acc: 0.8599 - val_loss: 0.7540 - val_acc: 0.7895\n",
            "Epoch 21/30\n",
            "249/250 [============================>.] - ETA: 1s - loss: 0.2906 - acc: 0.8699Epoch 1/30\n",
            "250/250 [==============================] - 272s 1s/step - loss: 0.2909 - acc: 0.8695 - val_loss: 1.2711 - val_acc: 0.7368\n",
            "Epoch 22/30\n",
            "249/250 [============================>.] - ETA: 1s - loss: 0.2717 - acc: 0.8807Epoch 1/30\n",
            "250/250 [==============================] - 271s 1s/step - loss: 0.2723 - acc: 0.8803 - val_loss: 1.1563 - val_acc: 0.5789\n",
            "Epoch 23/30\n",
            "249/250 [============================>.] - ETA: 1s - loss: 0.2758 - acc: 0.8794Epoch 1/30\n",
            "250/250 [==============================] - 272s 1s/step - loss: 0.2752 - acc: 0.8796 - val_loss: 1.0567 - val_acc: 0.7368\n",
            "Epoch 24/30\n",
            "249/250 [============================>.] - ETA: 1s - loss: 0.2633 - acc: 0.8852Epoch 1/30\n",
            "250/250 [==============================] - 272s 1s/step - loss: 0.2633 - acc: 0.8853 - val_loss: 1.4212 - val_acc: 0.5789\n",
            "Epoch 25/30\n",
            "249/250 [============================>.] - ETA: 1s - loss: 0.2454 - acc: 0.8923Epoch 1/30\n",
            "250/250 [==============================] - 271s 1s/step - loss: 0.2452 - acc: 0.8923 - val_loss: 1.5453 - val_acc: 0.5789\n",
            "Epoch 26/30\n",
            "249/250 [============================>.] - ETA: 1s - loss: 0.2297 - acc: 0.9002Epoch 1/30\n",
            "250/250 [==============================] - 271s 1s/step - loss: 0.2293 - acc: 0.9005 - val_loss: 1.6986 - val_acc: 0.5789\n",
            "Epoch 27/30\n",
            "249/250 [============================>.] - ETA: 1s - loss: 0.2188 - acc: 0.9080Epoch 1/30\n",
            "250/250 [==============================] - 269s 1s/step - loss: 0.2189 - acc: 0.9077 - val_loss: 1.6976 - val_acc: 0.6316\n",
            "Epoch 28/30\n",
            "249/250 [============================>.] - ETA: 1s - loss: 0.1979 - acc: 0.9167Epoch 1/30\n",
            "250/250 [==============================] - 270s 1s/step - loss: 0.1979 - acc: 0.9166 - val_loss: 1.7665 - val_acc: 0.6842\n",
            "Epoch 29/30\n",
            "249/250 [============================>.] - ETA: 1s - loss: 0.2017 - acc: 0.9158Epoch 1/30\n",
            "250/250 [==============================] - 271s 1s/step - loss: 0.2030 - acc: 0.9158 - val_loss: 2.0329 - val_acc: 0.7368\n",
            "Epoch 30/30\n",
            "249/250 [============================>.] - ETA: 1s - loss: 0.1907 - acc: 0.9184Epoch 1/30\n",
            "250/250 [==============================] - 270s 1s/step - loss: 0.1904 - acc: 0.9187 - val_loss: 2.1563 - val_acc: 0.5263\n"
          ],
          "name": "stdout"
        }
      ]
    },
    {
      "cell_type": "code",
      "metadata": {
        "id": "HDEaVpjWYawb",
        "colab": {
          "base_uri": "https://localhost:8080/",
          "height": 84
        },
        "outputId": "c9119d0f-2c6d-43f7-ce59-71d5d32f5295"
      },
      "source": [
        "accuracy = history.history['acc']\n",
        "loss = history.history['loss']\n",
        "val_accuracy = history.history['val_acc']\n",
        "val_loss = history.history['val_loss']\n",
        "\n",
        "print(f'Training Accuracy: {np.max(accuracy)}')\n",
        "print(f'Training Loss: {np.min(loss)}')\n",
        "print(f'Validation Accuracy: {np.max(val_accuracy)}')\n",
        "print(f'Validation Loss: {np.min(val_loss)}')"
      ],
      "execution_count": null,
      "outputs": [
        {
          "output_type": "stream",
          "text": [
            "Training Accuracy: 0.7040964365005493\n",
            "Training Loss: 0.5578811897537447\n",
            "Validation Accuracy: 0.5\n",
            "Validation Loss: 0.763062059879303\n"
          ],
          "name": "stdout"
        }
      ]
    },
    {
      "cell_type": "code",
      "metadata": {
        "id": "B_dkoTCWYg2C",
        "colab": {
          "base_uri": "https://localhost:8080/",
          "height": 356
        },
        "outputId": "812a3b73-4fcd-412f-d1f0-1949d0a1c11d"
      },
      "source": [
        "epochs_range = range(epochs)\n",
        "\n",
        "plt.figure(figsize=(20, 5))\n",
        "plt.subplot(1, 2, 1)\n",
        "plt.plot(epochs_range, accuracy, label=\"Training Accuracy\")\n",
        "plt.plot(epochs_range, val_accuracy, label=\"Validation Accuracy\")\n",
        "plt.legend(loc=\"lower right\")\n",
        "plt.title(\"Training and Validation Accuracy\")\n",
        "\n",
        "plt.subplot(1, 2, 2)\n",
        "plt.plot(epochs_range, loss, label=\"Training Loss\")\n",
        "plt.plot(epochs_range, val_loss, label=\"Validation Loss\")\n",
        "plt.legend(loc=\"upper right\")\n",
        "plt.title(\"Training and Validation Loss\")\n",
        "plt.show()"
      ],
      "execution_count": null,
      "outputs": [
        {
          "output_type": "display_data",
          "data": {
            "image/png": "[encoded data removed]",
            "text/plain": [
              "<Figure size 1440x360 with 2 Axes>"
            ]
          },
          "metadata": {
            "tags": []
          }
        }
      ]
    },
    {
      "cell_type": "code",
      "metadata": {
        "id": "4M_trv7zYl7X"
      },
      "source": [
        "class_names = ['cancer', 'normal']\n",
        "def plot_images(i, predictions_array, true_labels, images):\n",
        "    predictions_array, true_label, img = predictions_array[i], true_labels[i],images[i]\n",
        "    plt.grid(False)\n",
        "    plt.xticks([])\n",
        "    plt.yticks([])\n",
        "    \n",
        "    plt.imshow(img)\n",
        "    \n",
        "    predicted_label = np.argmax(predictions_array)\n",
        "        \n",
        "    plt.xlabel(\"{} {:2.0f}% ({})\".format(class_names[predicted_label],\n",
        "                                        100*np.max(predictions_array),\n",
        "                                        class_names[true_label]))"
      ],
      "execution_count": null,
      "outputs": []
    },
    {
      "cell_type": "code",
      "metadata": {
        "id": "3mnwMgoUYyi0"
      },
      "source": [
        "random.shuffle(test_data)\n",
        "predictions = model.predict(test_data)"
      ],
      "execution_count": null,
      "outputs": []
    },
    {
      "cell_type": "code",
      "metadata": {
        "id": "OOVS9pHnY1OG",
        "colab": {
          "base_uri": "https://localhost:8080/",
          "height": 157
        },
        "outputId": "31e93ce6-bde3-4cc6-ed36-6c327d2ae7d7"
      },
      "source": [
        "num_rows = 8\n",
        "num_cols = 6\n",
        "num_images = num_rows * num_cols\n",
        "plt.figure(figsize=(2*2*num_cols, 2*num_rows))\n",
        "for i in range(len(test_data)):\n",
        "    plt.subplot(num_rows, 2*num_cols, 2*i+1)\n",
        "    plot_images(i, predictions, test_labels, test_data)"
      ],
      "execution_count": null,
      "outputs": [
        {
          "output_type": "display_data",
          "data": {
            "image/png": "[encoded data removed]",
            "text/plain": [
              "<Figure size 1728x1152 with 6 Axes>"
            ]
          },
          "metadata": {
            "tags": []
          }
        }
      ]
    },
    {
      "cell_type": "code",
      "metadata": {
        "id": "GkjBzTFE7LB8",
        "colab": {
          "base_uri": "https://localhost:8080/",
          "height": 235
        },
        "outputId": "0013e3a9-3e0d-4a16-fcaf-58e6cbc5a95c"
      },
      "source": [
        "from sklearn.metrics import classification_report\n",
        "from sklearn.metrics import f1_score\n",
        "from sklearn import metrics\n",
        "from keras import backend as K\n",
        "from sklearn.metrics import plot_confusion_matrix\n",
        "from sklearn.metrics import confusion_matrix\n",
        "\n",
        "\n",
        "y_pred = model.predict(test_data, batch_size=64, verbose=1)\n",
        "y_pred_bool = np.argmax(y_pred, axis=1)\n",
        "print(y_pred_bool)\n",
        "\n",
        "print(classification_report(test_labels, y_pred_bool))\n",
        "print('F1_score : ',f1_score(test_labels,y_pred_bool))\n",
        "print('sensitibity : ',metrics.recall_score(test_labels, y_pred_bool))\n",
        "\n",
        "\n"
      ],
      "execution_count": null,
      "outputs": [
        {
          "output_type": "stream",
          "text": [
            "\r6/6 [==============================] - 0s 12ms/sample\n",
            "[1 1 1 0 0 1]\n",
            "              precision    recall  f1-score   support\n",
            "\n",
            "           0       0.50      0.33      0.40         3\n",
            "           1       0.50      0.67      0.57         3\n",
            "\n",
            "    accuracy                           0.50         6\n",
            "   macro avg       0.50      0.50      0.49         6\n",
            "weighted avg       0.50      0.50      0.49         6\n",
            "\n",
            "F1_score :  0.5714285714285715\n",
            "sensitibity :  0.6666666666666666\n"
          ],
          "name": "stdout"
        }
      ]
    },
    {
      "cell_type": "code",
      "metadata": {
        "id": "hqmoLcIuBfNu",
        "colab": {
          "base_uri": "https://localhost:8080/",
          "height": 50
        },
        "outputId": "70f19337-8b9f-4613-ae47-4f257d930379"
      },
      "source": [
        "from sklearn.metrics import confusion_matrix\n",
        "confusion = confusion_matrix(test_labels, y_pred_bool)\n",
        "TP = confusion[1, 1]\n",
        "TN = confusion[0, 0]\n",
        "FP = confusion[0, 1]\n",
        "FN = confusion[1, 0]\n",
        "print(confusion)"
      ],
      "execution_count": null,
      "outputs": [
        {
          "output_type": "stream",
          "text": [
            "[[1 2]\n",
            " [1 2]]\n"
          ],
          "name": "stdout"
        }
      ]
    },
    {
      "cell_type": "code",
      "metadata": {
        "id": "R3BrkiUVBqr0",
        "colab": {
          "base_uri": "https://localhost:8080/",
          "height": 67
        },
        "outputId": "a8e637d7-6f75-48e3-ea3f-4bede5f2fd75"
      },
      "source": [
        "from keras import metrics\n",
        "print('F1_score = ',f1_score(test_labels,y_pred_bool))\n",
        "print('specificity =',TN/(TN+FP))\n",
        "print('sensitivity =',TP/(TP+FN))\n"
      ],
      "execution_count": null,
      "outputs": [
        {
          "output_type": "stream",
          "text": [
            "F1_score =  0.5714285714285715\n",
            "specificity = 0.3333333333333333\n",
            "sensitivity = 0.6666666666666666\n"
          ],
          "name": "stdout"
        }
      ]
    },
    {
      "cell_type": "code",
      "metadata": {
        "id": "DNic6laMGhCS",
        "colab": {
          "base_uri": "https://localhost:8080/",
          "height": 317
        },
        "outputId": "b1e370c7-17fd-4ff1-f168-3fad61e20284"
      },
      "source": [
        "from sklearn.metrics import roc_curve,roc_auc_score\n",
        "import matplotlib.pyplot as plt\n",
        "from sklearn.metrics import matthews_corrcoef\n",
        "\n",
        "fpr , tpr , thresholds = roc_curve (test_labels,y_pred_bool)\n",
        "plot_roc_curve (fpr,tpr)\n",
        "auc_score=roc_auc_score(test_labels,y_pred_bool) \n",
        "print(auc_score) \n",
        "print(matthews_corrcoef(test_labels,y_pred_bool))"
      ],
      "execution_count": null,
      "outputs": [
        {
          "output_type": "display_data",
          "data": {
            "image/png": "[encoded data removed]",
            "text/plain": [
              "<Figure size 432x288 with 1 Axes>"
            ]
          },
          "metadata": {
            "tags": []
          }
        },
        {
          "output_type": "stream",
          "text": [
            "0.5\n",
            "0.0\n"
          ],
          "name": "stdout"
        }
      ]
    },
    {
      "cell_type": "code",
      "metadata": {
        "id": "8nWN_jNVGxD4"
      },
      "source": [
        "def plot_roc_curve(fpr,tpr): \n",
        "  plt.plot(fpr,tpr) \n",
        "  plt.axis([0,1,0,1]) \n",
        "  plt.xlabel('False Positive Rate') \n",
        "  plt.ylabel('True Positive Rate') \n",
        "  plt.show() "
      ],
      "execution_count": null,
      "outputs": []
    }
  ]
}